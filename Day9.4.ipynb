{
 "cells": [
  {
   "cell_type": "code",
   "execution_count": 14,
   "metadata": {},
   "outputs": [],
   "source": [
    "# C1: dung ky phap () tuong tu list comprehension"
   ]
  },
  {
   "cell_type": "code",
   "execution_count": 4,
   "metadata": {},
   "outputs": [
    {
     "name": "stdout",
     "output_type": "stream",
     "text": [
      "90 20 18 92 0 88 6 56 76 48 74 \n",
      " 568\n"
     ]
    }
   ],
   "source": [
    "import random as rd\n",
    "numbers = rd.sample(range(100), 20)\n",
    "# List comprehension\n",
    "evens = [n for n in numbers if n % 2 == 0]\n",
    "for n in evens:\n",
    "    print(n, end=' ')\n",
    "print('\\n', sum(evens))"
   ]
  },
  {
   "cell_type": "code",
   "execution_count": 5,
   "metadata": {},
   "outputs": [
    {
     "name": "stdout",
     "output_type": "stream",
     "text": [
      "90 20 18 92 0 88 6 56 76 48 74 \n",
      "568\n"
     ]
    }
   ],
   "source": [
    "# Generator\n",
    "evens_gen = [n for n in numbers if n % 2 == 0]\n",
    "for n in evens:\n",
    "    print(n, end=' ')\n",
    "print()\n",
    "evens_gen = [n for n in numbers if n % 2 == 0]\n",
    "print(sum(evens_gen))"
   ]
  },
  {
   "cell_type": "code",
   "execution_count": 6,
   "metadata": {},
   "outputs": [],
   "source": [
    "# Tao generator voi yield\n",
    "# Normal function \n",
    "def my_filter_func(f, sequences):\n",
    "    res = []\n",
    "    for n in sequences:\n",
    "        if f(n):\n",
    "            res.append(n)\n",
    "    return res"
   ]
  },
  {
   "cell_type": "code",
   "execution_count": 7,
   "metadata": {},
   "outputs": [],
   "source": [
    "# Generator function \n",
    "def my_filter_gen(f, sequences):\n",
    "    for n in sequences:\n",
    "        if f(n):\n",
    "            yield n"
   ]
  },
  {
   "cell_type": "code",
   "execution_count": 8,
   "metadata": {},
   "outputs": [
    {
     "name": "stdout",
     "output_type": "stream",
     "text": [
      "[90, 20, 18, 33, 91, 92, 3, 0, 88, 6, 37, 25, 56, 76, 48, 97, 74, 89, 23, 35]\n",
      "[90, 20, 18, 92, 0, 88, 6, 56, 76, 48, 74]\n"
     ]
    }
   ],
   "source": [
    "print(numbers)\n",
    "print(my_filter_func(lambda n: True if n%2==0 else False, numbers))"
   ]
  },
  {
   "cell_type": "code",
   "execution_count": 9,
   "metadata": {},
   "outputs": [
    {
     "name": "stdout",
     "output_type": "stream",
     "text": [
      "90 20 18 92 0 88 6 56 76 48 74 "
     ]
    }
   ],
   "source": [
    "for e in my_filter_gen(lambda n: True if n%2==0 else False, numbers):\n",
    "    print(e, end=' ')"
   ]
  },
  {
   "cell_type": "code",
   "execution_count": 10,
   "metadata": {},
   "outputs": [
    {
     "name": "stdout",
     "output_type": "stream",
     "text": [
      "[90, 20, 18, 92, 0, 88, 6, 56, 76, 48, 74]\n"
     ]
    }
   ],
   "source": [
    "evens = list(my_filter_gen(lambda n: True if n%2==0 else False, numbers))\n",
    "print(evens)"
   ]
  },
  {
   "cell_type": "code",
   "execution_count": 11,
   "metadata": {},
   "outputs": [],
   "source": [
    "def my_app_gen(f, sequences):\n",
    "    for n in sequences:\n",
    "        yield f(n)"
   ]
  },
  {
   "cell_type": "code",
   "execution_count": 19,
   "metadata": {},
   "outputs": [
    {
     "name": "stdout",
     "output_type": "stream",
     "text": [
      "[90, 20, 18, 92, 88, 6, 56, 76, 48, 74]\n",
      "[90, 20, 18, 0, 0, 92, 0, 0, 88, 6, 0, 0, 56, 76, 48, 0, 74, 0, 0, 0]\n"
     ]
    }
   ],
   "source": [
    "new_numbers = list(my_filter_gen(lambda n: n if n%2==0 else 0, numbers))\n",
    "print(new_numbers)\n",
    "new_numbers = list(map(lambda n: n if n%2==0 else 0, numbers))\n",
    "print(new_numbers)"
   ]
  },
  {
   "cell_type": "code",
   "execution_count": null,
   "metadata": {},
   "outputs": [],
   "source": []
  },
  {
   "cell_type": "code",
   "execution_count": 20,
   "metadata": {},
   "outputs": [
    {
     "name": "stdout",
     "output_type": "stream",
     "text": [
      "range(0, 100)\n",
      "[0, 1, 2, 3, 4, 5, 6, 7, 8, 9, 10, 11, 12, 13, 14, 15, 16, 17, 18, 19, 20, 21, 22, 23, 24, 25, 26, 27, 28, 29, 30, 31, 32, 33, 34, 35, 36, 37, 38, 39, 40, 41, 42, 43, 44, 45, 46, 47, 48, 49, 50, 51, 52, 53, 54, 55, 56, 57, 58, 59, 60, 61, 62, 63, 64, 65, 66, 67, 68, 69, 70, 71, 72, 73, 74, 75, 76, 77, 78, 79, 80, 81, 82, 83, 84, 85, 86, 87, 88, 89, 90, 91, 92, 93, 94, 95, 96, 97, 98, 99]\n"
     ]
    }
   ],
   "source": [
    "print(range(100))\n",
    "print(list(range(100)))"
   ]
  },
  {
   "cell_type": "code",
   "execution_count": null,
   "metadata": {},
   "outputs": [],
   "source": [
    "# Using generator, calculate sum of squares from 1-20\n",
    "# sum 1 + 4 + 9 + 16 + ... "
   ]
  },
  {
   "cell_type": "code",
   "execution_count": 21,
   "metadata": {},
   "outputs": [
    {
     "name": "stdout",
     "output_type": "stream",
     "text": [
      "2870\n"
     ]
    }
   ],
   "source": [
    "squares = (n**2 for n in range(1,21))\n",
    "print(sum(squares))"
   ]
  },
  {
   "cell_type": "code",
   "execution_count": 22,
   "metadata": {},
   "outputs": [],
   "source": [
    "def fib_rec(n):\n",
    "    if n < 2:\n",
    "        return n\n",
    "    return fib_rec(n-2) + fib_rec(n-1)"
   ]
  },
  {
   "cell_type": "code",
   "execution_count": 23,
   "metadata": {},
   "outputs": [
    {
     "name": "stdout",
     "output_type": "stream",
     "text": [
      "F5 = 5\n"
     ]
    }
   ],
   "source": [
    "n = int(input('Enter n: '))\n",
    "print('F{0} = {1}'.format(n, fib_rec(n)))"
   ]
  },
  {
   "cell_type": "code",
   "execution_count": 24,
   "metadata": {},
   "outputs": [],
   "source": [
    "def fib_gen():\n",
    "    f0 = 0\n",
    "    f1 = 1\n",
    "    while True:\n",
    "        yield f0\n",
    "        temp = f1\n",
    "        f1 = f0 + temp\n",
    "        f0 = temp"
   ]
  },
  {
   "cell_type": "code",
   "execution_count": 25,
   "metadata": {},
   "outputs": [
    {
     "name": "stdout",
     "output_type": "stream",
     "text": [
      "0 1 1 2 3 5 8 13 21 34 55 89 144 233 377 610 987 1597 2584 4181 6765 10946 17711 28657 46368 75025 121393 196418 317811 514229 832040 1346269 2178309 3524578 5702887 9227465 14930352 24157817 39088169 63245986 102334155 165580141 267914296 433494437 701408733 1134903170 1836311903 2971215073 4807526976 7778742049 12586269025 "
     ]
    }
   ],
   "source": [
    "i = 0\n",
    "for f in fib_gen():\n",
    "    if i >= 51:\n",
    "        break\n",
    "    print(f, end=' ')\n",
    "    i += 1"
   ]
  },
  {
   "cell_type": "code",
   "execution_count": 26,
   "metadata": {},
   "outputs": [
    {
     "name": "stdout",
     "output_type": "stream",
     "text": [
      "fib thu 6 : 8\n"
     ]
    }
   ],
   "source": [
    "# Viet ham tinh Fn\n",
    "n = int(input('Enter n: '))\n",
    "def fib(n):\n",
    "    i = 0\n",
    "    for f in fib_gen():\n",
    "        if i == n:\n",
    "            return f\n",
    "        i += 1\n",
    "\n",
    "print('fib thu',n, ':', fib(n))\n"
   ]
  },
  {
   "cell_type": "code",
   "execution_count": null,
   "metadata": {},
   "outputs": [],
   "source": []
  }
 ],
 "metadata": {
  "interpreter": {
   "hash": "9bf2ca0f4a7adc3ce2f237ca763c1538d3ef289a4e7face3612a01cdae9f6807"
  },
  "kernelspec": {
   "display_name": "Python 3.10.1 64-bit",
   "language": "python",
   "name": "python3"
  },
  "language_info": {
   "codemirror_mode": {
    "name": "ipython",
    "version": 3
   },
   "file_extension": ".py",
   "mimetype": "text/x-python",
   "name": "python",
   "nbconvert_exporter": "python",
   "pygments_lexer": "ipython3",
   "version": "3.10.1"
  },
  "orig_nbformat": 4
 },
 "nbformat": 4,
 "nbformat_minor": 2
}
