{
 "cells": [
  {
   "cell_type": "code",
   "execution_count": 1,
   "metadata": {},
   "outputs": [
    {
     "name": "stdout",
     "output_type": "stream",
     "text": [
      "[1, 'a', 3.14, [1, 2, 3]]\n"
     ]
    }
   ],
   "source": [
    "a = [1, 'a', 3.14, [1, 2, 3]]\n",
    "print(a)"
   ]
  },
  {
   "cell_type": "code",
   "execution_count": 2,
   "metadata": {},
   "outputs": [],
   "source": [
    "grades = [\n",
    "    ['minh', 4, 8, 9],\n",
    "    ['trung', 5, 2, 8],\n",
    "    ['hoa', 7, 8, 4],\n",
    "]"
   ]
  },
  {
   "cell_type": "code",
   "execution_count": 3,
   "metadata": {},
   "outputs": [
    {
     "name": "stdout",
     "output_type": "stream",
     "text": [
      "[['minh', 4, 8, 9], ['trung', 5, 2, 8], ['hoa', 7, 8, 4]]\n"
     ]
    }
   ],
   "source": [
    "print(grades)"
   ]
  },
  {
   "cell_type": "code",
   "execution_count": 4,
   "metadata": {},
   "outputs": [
    {
     "name": "stdout",
     "output_type": "stream",
     "text": [
      "['trung', 5, 2, 8]\n",
      "[5, 2, 8]\n"
     ]
    }
   ],
   "source": [
    "print(grades[1])\n",
    "print(grades[1][1:])"
   ]
  },
  {
   "cell_type": "code",
   "execution_count": 5,
   "metadata": {},
   "outputs": [
    {
     "name": "stdout",
     "output_type": "stream",
     "text": [
      "Average grade of trung = 5.0\n"
     ]
    }
   ],
   "source": [
    "#min, max, sum\n",
    "name = grades[1] [0]\n",
    "a = sum(grades[1][1:]) / 3\n",
    "print('Average grade of {0} = {1}'.format(name, a))"
   ]
  },
  {
   "cell_type": "code",
   "execution_count": 15,
   "metadata": {},
   "outputs": [
    {
     "name": "stdout",
     "output_type": "stream",
     "text": [
      "Name: trung\n",
      "Grades: [5, 2, 8]\n",
      "Average grades: 5.00\n"
     ]
    }
   ],
   "source": [
    "# Enter student id\n",
    "# Print student name, student grades, average of student grades\n",
    "id = int(input('Enter student id: '))\n",
    "#if 0 <= id <= len(grades) - 1:   # if 0 <= id and id <= len(grades)\n",
    "if id in range(len(grades)):\n",
    "    name = grades[id] [0]\n",
    "    a = sum(grades[id][1:]) / 3\n",
    "    print('Name:', name)\n",
    "    print('Grades:', grades[id][1:])\n",
    "    print('Average grades: {0:.2f}'.format(a))\n",
    "else:\n",
    "    print('Invalid id!')\n",
    "\n"
   ]
  },
  {
   "cell_type": "code",
   "execution_count": 12,
   "metadata": {},
   "outputs": [
    {
     "name": "stdout",
     "output_type": "stream",
     "text": [
      "[0, 1, 2]\n"
     ]
    }
   ],
   "source": [
    "print(list(range(len(grades))))"
   ]
  },
  {
   "cell_type": "code",
   "execution_count": 13,
   "metadata": {},
   "outputs": [
    {
     "name": "stdout",
     "output_type": "stream",
     "text": [
      "[1, 2, 3, 4, 5, 6, 7, 8, 9, 10]\n",
      "[0, 1, 2, 3, 4, 5, 6, 7, 8, 9]\n"
     ]
    }
   ],
   "source": [
    "print(list(range(1, 11)))\n",
    "print(list(range(10)))"
   ]
  },
  {
   "cell_type": "code",
   "execution_count": 16,
   "metadata": {},
   "outputs": [],
   "source": [
    "a = [\n",
    "    [1],\n",
    "    [2, 3, 4],\n",
    "    [],\n",
    "    [5, 6]\n",
    "]"
   ]
  },
  {
   "cell_type": "code",
   "execution_count": 17,
   "metadata": {},
   "outputs": [
    {
     "ename": "IndexError",
     "evalue": "list index out of range",
     "output_type": "error",
     "traceback": [
      "\u001b[1;31m---------------------------------------------------------------------------\u001b[0m",
      "\u001b[1;31mIndexError\u001b[0m                                Traceback (most recent call last)",
      "\u001b[1;32m~\\AppData\\Local\\Temp/ipykernel_14124/3308006652.py\u001b[0m in \u001b[0;36m<module>\u001b[1;34m\u001b[0m\n\u001b[1;32m----> 1\u001b[1;33m \u001b[0mprint\u001b[0m\u001b[1;33m(\u001b[0m\u001b[0ma\u001b[0m\u001b[1;33m[\u001b[0m\u001b[1;36m0\u001b[0m\u001b[1;33m]\u001b[0m\u001b[1;33m[\u001b[0m\u001b[1;36m1\u001b[0m\u001b[1;33m]\u001b[0m\u001b[1;33m)\u001b[0m\u001b[1;33m\u001b[0m\u001b[1;33m\u001b[0m\u001b[0m\n\u001b[0m\u001b[0;32m      2\u001b[0m \u001b[0mprint\u001b[0m\u001b[1;33m(\u001b[0m\u001b[0ma\u001b[0m\u001b[1;33m[\u001b[0m\u001b[1;36m1\u001b[0m\u001b[1;33m]\u001b[0m\u001b[1;33m[\u001b[0m\u001b[1;36m1\u001b[0m\u001b[1;33m]\u001b[0m\u001b[1;33m)\u001b[0m\u001b[1;33m\u001b[0m\u001b[1;33m\u001b[0m\u001b[0m\n",
      "\u001b[1;31mIndexError\u001b[0m: list index out of range"
     ]
    }
   ],
   "source": [
    "print(a[0][1])\n",
    "print(a[1][1])"
   ]
  },
  {
   "cell_type": "code",
   "execution_count": 28,
   "metadata": {},
   "outputs": [],
   "source": [
    "m = [list(range(10, 15)),\n",
    "    list(range(15, 20)),\n",
    "    list(range(20, 25)),\n",
    "    list(range(25, 30)),\n",
    "    list(range(30, 35)),\n",
    "]"
   ]
  },
  {
   "cell_type": "code",
   "execution_count": 29,
   "metadata": {},
   "outputs": [],
   "source": [
    "def print_matrix(m):\n",
    "    for row in m:\n",
    "        print(row)"
   ]
  },
  {
   "cell_type": "code",
   "execution_count": 31,
   "metadata": {},
   "outputs": [
    {
     "name": "stdout",
     "output_type": "stream",
     "text": [
      "[0, 1, 2, 3, 4]\n",
      "[10, 11, 12, 13, 14]\n",
      "[15, 16, 17, 18, 19]\n",
      "[20, 21, 22, 23, 24]\n",
      "[25, 26, 27, 28, 29]\n"
     ]
    }
   ],
   "source": [
    "print_matrix(m)"
   ]
  },
  {
   "cell_type": "code",
   "execution_count": 32,
   "metadata": {},
   "outputs": [
    {
     "name": "stdout",
     "output_type": "stream",
     "text": [
      "[18, 15, 69, 11, 37]\n",
      "[62, 11, 50, 12, 65]\n",
      "[87, 13, 48, 42, 32]\n",
      "[93, 11, 42, 33, 68]\n",
      "[11, 30, 56, 90, 79]\n"
     ]
    }
   ],
   "source": [
    "import random as rd\n",
    "m = [\n",
    "    list(rd.sample(range(10, 100), 5)),\n",
    "    list(rd.sample(range(10, 100), 5)),\n",
    "    list(rd.sample(range(10, 100), 5)),\n",
    "    list(rd.sample(range(10, 100), 5)),\n",
    "    list(rd.sample(range(10, 100), 5))\n",
    "]\n",
    "print_matrix(m)"
   ]
  },
  {
   "cell_type": "code",
   "execution_count": 33,
   "metadata": {},
   "outputs": [
    {
     "name": "stdout",
     "output_type": "stream",
     "text": [
      "Min 3th: 20 Max 3th: 24\n",
      "Sum: 110\n"
     ]
    }
   ],
   "source": [
    "n = int(input('Enter number:'))\n",
    "print('Min 3th:', min(matrix[n]), 'Max 3th:', max(matrix[n]))\n",
    "print('Sum:', sum(matrix[n]))"
   ]
  },
  {
   "cell_type": "code",
   "execution_count": 38,
   "metadata": {},
   "outputs": [
    {
     "name": "stdout",
     "output_type": "stream",
     "text": [
      "[13, 32, 42, 48, 87]\n",
      "[87, 48, 42, 32, 13]\n",
      "[13, 32, 42, 48, 87]\n"
     ]
    }
   ],
   "source": [
    "row = m[2]\n",
    "print(row)\n",
    "print(sorted(row, reverse = True))\n",
    "print(row)"
   ]
  },
  {
   "cell_type": "code",
   "execution_count": 35,
   "metadata": {},
   "outputs": [
    {
     "name": "stdout",
     "output_type": "stream",
     "text": [
      "[13, 32, 42, 48, 87]\n"
     ]
    }
   ],
   "source": [
    "row.sort()\n",
    "print(row)"
   ]
  },
  {
   "cell_type": "code",
   "execution_count": 39,
   "metadata": {},
   "outputs": [
    {
     "name": "stdout",
     "output_type": "stream",
     "text": [
      "[13, 32, 42, 48, 87]\n",
      "[18, 15, 69, 11, 37]\n",
      "[62, 11, 50, 12, 65]\n",
      "[13, 32, 42, 48, 87]\n",
      "[93, 11, 42, 33, 68]\n",
      "[11, 30, 56, 90, 79]\n"
     ]
    }
   ],
   "source": [
    "print(row)\n",
    "print_matrix(m)"
   ]
  },
  {
   "cell_type": "markdown",
   "metadata": {},
   "source": [
    "## ARRAY - NUMPY"
   ]
  },
  {
   "cell_type": "code",
   "execution_count": null,
   "metadata": {},
   "outputs": [],
   "source": [
    "import numpy as ny\n"
   ]
  }
 ],
 "metadata": {
  "interpreter": {
   "hash": "9bf2ca0f4a7adc3ce2f237ca763c1538d3ef289a4e7face3612a01cdae9f6807"
  },
  "kernelspec": {
   "display_name": "Python 3.10.1 64-bit",
   "language": "python",
   "name": "python3"
  },
  "language_info": {
   "codemirror_mode": {
    "name": "ipython",
    "version": 3
   },
   "file_extension": ".py",
   "mimetype": "text/x-python",
   "name": "python",
   "nbconvert_exporter": "python",
   "pygments_lexer": "ipython3",
   "version": "3.10.1"
  },
  "orig_nbformat": 4
 },
 "nbformat": 4,
 "nbformat_minor": 2
}
