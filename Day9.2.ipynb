{
 "cells": [
  {
   "cell_type": "code",
   "execution_count": 3,
   "metadata": {},
   "outputs": [
    {
     "name": "stdout",
     "output_type": "stream",
     "text": [
      "[4, 5, 8, 10]\n",
      "[4, 5, 8, 10]\n",
      "Numbers: [-568, 595, -349, 955, -554, -531, -983, -108, 14, 745, -347, -227, 789, 173, 924, 879, -22, 657, 969, 188]\n",
      "New numbers: [-568, 595, -349, 955, -554, -531, -983, -108, 14, 745, -347, -227, 789, 173, 924, 879, -22, 657, 969, 188]\n"
     ]
    }
   ],
   "source": [
    "# Map\n",
    "# Give list negative numbers => Map positive numbers\n",
    "numbers = [-4, -5, -8, -10]\n",
    "positives = [-n for n in numbers]\n",
    "print(positives)\n",
    "\n",
    "positives = list(map(lambda n: -n, numbers))\n",
    "print(positives)\n",
    "\n",
    "import random as rd\n",
    "numbers = rd.sample(range(-999, 1000), 20)\n",
    "print('Numbers:', numbers)\n",
    "\n",
    "positives = list(map(lambda n: -n if n < 0 else n, numbers))\n",
    "print('New numbers:', numbers)\n"
   ]
  },
  {
   "cell_type": "code",
   "execution_count": null,
   "metadata": {},
   "outputs": [],
   "source": [
    "employees = [['John', '0956345267', 300]\n",
    "            ['','abc', 3000]\n",
    "            ['Paul', '035839239', 30000]]\n",
    "\n",
    "def do_nothing(employees):\n",
    "    pass\n",
    "\n"
   ]
  }
 ],
 "metadata": {
  "interpreter": {
   "hash": "9bf2ca0f4a7adc3ce2f237ca763c1538d3ef289a4e7face3612a01cdae9f6807"
  },
  "kernelspec": {
   "display_name": "Python 3.10.1 64-bit",
   "language": "python",
   "name": "python3"
  },
  "language_info": {
   "codemirror_mode": {
    "name": "ipython",
    "version": 3
   },
   "file_extension": ".py",
   "mimetype": "text/x-python",
   "name": "python",
   "nbconvert_exporter": "python",
   "pygments_lexer": "ipython3",
   "version": "3.10.1"
  },
  "orig_nbformat": 4
 },
 "nbformat": 4,
 "nbformat_minor": 2
}
