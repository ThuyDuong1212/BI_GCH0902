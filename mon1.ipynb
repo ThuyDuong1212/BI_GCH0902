{
 "cells": [
  {
   "cell_type": "code",
   "execution_count": 7,
   "metadata": {},
   "outputs": [
    {
     "name": "stdout",
     "output_type": "stream",
     "text": [
      "hello world\n"
     ]
    }
   ],
   "source": [
    "print('hello world')"
   ]
  },
  {
   "cell_type": "code",
   "execution_count": 8,
   "metadata": {},
   "outputs": [
    {
     "name": "stdout",
     "output_type": "stream",
     "text": [
      "4 <class 'int'>\n",
      "4.0 <class 'float'>\n",
      "4 <class 'str'>\n",
      "[4] <class 'list'>\n"
     ]
    }
   ],
   "source": [
    "a = 4 # a -> int\n",
    "print(a, type(a))\n",
    "a = 4.0 # a -> float\n",
    "print(a, type(a))\n",
    "a = \"4\" # a -> str\n",
    "print(a, type(a))\n",
    "a = [4] # a -> list\n",
    "print (a, type(a))\n"
   ]
  },
  {
   "cell_type": "code",
   "execution_count": 9,
   "metadata": {},
   "outputs": [
    {
     "name": "stdout",
     "output_type": "stream",
     "text": [
      "Max = 5\n"
     ]
    }
   ],
   "source": [
    "a = int(input('Enter a: '))\n",
    "b = int(input('Enter b: '))\n",
    "if a > b:\n",
    "    print('Max =', a)\n",
    "else:\n",
    "    print('Max =', b)"
   ]
  },
  {
   "cell_type": "code",
   "execution_count": null,
   "metadata": {},
   "outputs": [],
   "source": [
    "a = int(input('Enter a:'))\n",
    "b = int(input('Enter b: '))\n",
    "print('Max =', a if a > b else b)      \n"
   ]
  },
  {
   "cell_type": "code",
   "execution_count": null,
   "metadata": {},
   "outputs": [
    {
     "name": "stdout",
     "output_type": "stream",
     "text": [
      "4$5$Hello---------"
     ]
    }
   ],
   "source": [
    "print(a, b, 'Hello', sep = '$', end = '---------')"
   ]
  },
  {
   "cell_type": "code",
   "execution_count": 16,
   "metadata": {},
   "outputs": [
    {
     "name": "stdout",
     "output_type": "stream",
     "text": [
      "Full name           Class     Student AgeStudent Grade\n",
      "Thuy Duong           GCH0902        21            7.00      \n"
     ]
    }
   ],
   "source": [
    "print('{0:20s}{1:10s}{2:10s}{3:10s}'.format('Full name', 'Class', 'Student Age', 'Student Grade'))\n",
    "name = input('Enter name: ')\n",
    "stdclass = input('Enter class: ')\n",
    "age = int(input('Enter age: '))\n",
    "grade = float(input('Enter grade: '))\n",
    "print('{0:20s}{1:^10s}{2:^15d}{3:^15.2f}'.format(name, stdclass, age, grade))\n"
   ]
  },
  {
   "cell_type": "code",
   "execution_count": null,
   "metadata": {},
   "outputs": [],
   "source": [
    "## Conditional statements\n",
    "1. If_else\n",
    "VD1:\n",
    "\n",
    "\n",
    "VD2:\n",
    "if a > b:\n",
    "    # do something\n",
    "else\n",
    "\n",
    "\n",
    "\n",
    "## Loop statement\n",
    "while n < 10:\n",
    "    #do something\n",
    "    # another something\n",
    "    \n",
    "for (int i = 0; i < 10; i++) => not exist in Python"
   ]
  },
  {
   "cell_type": "code",
   "execution_count": 17,
   "metadata": {},
   "outputs": [
    {
     "name": "stdout",
     "output_type": "stream",
     "text": [
      "Dien tich tam giac:  5.332682251925386\n"
     ]
    }
   ],
   "source": [
    "# if..else exercise: Nhap vao 3 canh tam giac, kiem tra dieu kien va tinh dien tich\n",
    "a = int(input('Enter a: '))\n",
    "b = int(input('Enter b: '))\n",
    "c = int(input('Enter c: '))\n",
    "# p = (a+b+c)/2\n",
    "# if (a+b>c) and (b+c>a) and (a+c>b) and (a>0) and (b>0) and (c>0):\n",
    "#     print('Dien tich tam giac: ', (p*(p-a)*(p-b)*(p-c)) ** 0.5)\n",
    "# else:\n",
    "#     print('Khong co tam giac')\n",
    "positive_condition = a > 0 and b > 0 and c > 0\n",
    "sum_condition = a + b > c and b + c > a and a + c > b\n",
    "if positive_condition and sum_condition:\n",
    "    p = (a + b + c) / 2\n",
    "    s = (p * (p-a)*(p-b)*(p-c)) ** 0.5\n",
    "    print('Triangle area: ', s)\n",
    "else:\n",
    "    print('Invalid input for triangle')\n"
   ]
  },
  {
   "cell_type": "code",
   "execution_count": 20,
   "metadata": {},
   "outputs": [
    {
     "name": "stdout",
     "output_type": "stream",
     "text": [
      "December\n"
     ]
    }
   ],
   "source": [
    "# if..elif..else: Nhap vao thang (numeric) va doi sang chu (January,...)\n",
    "month = int(input('Enter month number: '))\n",
    "if month == 1:\n",
    "    print('January')\n",
    "elif month == 2:\n",
    "    print('February')\n",
    "elif month == 3:\n",
    "    print('March')\n",
    "elif month == 4:\n",
    "    print('April')\n",
    "elif month == 5:\n",
    "    print('May')\n",
    "elif month == 6:\n",
    "    print('June')\n",
    "elif month == 7:\n",
    "    print('July')\n",
    "elif month == 8:\n",
    "    print('August')\n",
    "elif month == 9:\n",
    "    print('September')\n",
    "elif month == 10:\n",
    "    print('October')\n",
    "elif month == 11:\n",
    "    print('November')\n",
    "elif month == 12:\n",
    "    print('December')\n",
    "else:\n",
    "    print('Invalid month number!')"
   ]
  },
  {
   "cell_type": "code",
   "execution_count": 22,
   "metadata": {},
   "outputs": [
    {
     "name": "stdout",
     "output_type": "stream",
     "text": [
      "FirstNumber         Enter Number        Result         \n",
      "         1                   6              6\n",
      "         2                   6             12\n",
      "         3                   6             18\n",
      "         4                   6             24\n",
      "         5                   6             30\n",
      "         6                   6             36\n",
      "         7                   6             42\n",
      "         8                   6             48\n",
      "         9                   6             54\n",
      "        10                   6             60\n"
     ]
    }
   ],
   "source": [
    "# while exercise: Nhap vao n, in ra bang cuu chuong n\n",
    "# 1 x 5 = 5\n",
    "# 2 x 5 = 10\n",
    "print('{0:20s}{1:20s}{2:15s}'.format('FirstNumber', 'Enter Number', 'Result'))\n",
    "m = int(input('enter number: '))\n",
    "c = 0\n",
    "\n",
    "while (c < 10):\n",
    "    c = c+1\n",
    "    x = c * m\n",
    "    print('{0:10d}{1:20d}{2:15d}'.format(c, m, x))"
   ]
  },
  {
   "cell_type": "code",
   "execution_count": null,
   "metadata": {},
   "outputs": [],
   "source": [
    "movie_name = input('Enter movie name: ')\n",
    "adult_tk_price = float(input('Enter adult ticket price: '))\n",
    "child_tk_price = float(input('Enter child ticket price: '))\n",
    "adult_tickets = int(input('Enter adult ticket sold: '))\n",
    "child_tickets = int(input('Enter child ticket sold: '))\n",
    "percent_donate = int(input('Enter percent to donate: '))"
   ]
  },
  {
   "cell_type": "code",
   "execution_count": null,
   "metadata": {},
   "outputs": [],
   "source": [
    "print('-*' *25)\n",
    "print('{0:30s}{1:>20s}'.format('Movie name: ' + '.' * 18, movie_name))\n",
    "print('{0:30s}{1:20d}'.format('Number of ticket sold:.......', adult_tickets + child_tickets))\n",
    "gross_amount = adult_tickets * adult_tk_price + child_tickets * child_tk_price\n"
   ]
  },
  {
   "cell_type": "code",
   "execution_count": null,
   "metadata": {},
   "outputs": [],
   "source": []
  }
 ],
 "metadata": {
  "interpreter": {
   "hash": "9bf2ca0f4a7adc3ce2f237ca763c1538d3ef289a4e7face3612a01cdae9f6807"
  },
  "kernelspec": {
   "display_name": "Python 3.10.1 64-bit",
   "language": "python",
   "name": "python3"
  },
  "language_info": {
   "codemirror_mode": {
    "name": "ipython",
    "version": 3
   },
   "file_extension": ".py",
   "mimetype": "text/x-python",
   "name": "python",
   "nbconvert_exporter": "python",
   "pygments_lexer": "ipython3",
   "version": "3.10.1"
  },
  "orig_nbformat": 4
 },
 "nbformat": 4,
 "nbformat_minor": 2
}
