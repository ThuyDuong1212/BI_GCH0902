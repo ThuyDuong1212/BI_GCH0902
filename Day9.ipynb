{
 "cells": [
  {
   "cell_type": "code",
   "execution_count": 2,
   "metadata": {},
   "outputs": [
    {
     "name": "stdout",
     "output_type": "stream",
     "text": [
      "9\n",
      "Micheal Jordan Peter\n",
      "Nguyen Thi Mong Mo\n"
     ]
    }
   ],
   "source": [
    "def same(a):\n",
    "    return a\n",
    "def my_max(sequences,  key = same):\n",
    "    m = sequences[0]\n",
    "    for i in range(1, len(sequences)):\n",
    "        if key(m) < key(sequences[i]):\n",
    "            m = sequences[i]\n",
    "    return m \n",
    "\n",
    "numbers = [2, 4, 7, 3, 9, 6]\n",
    "names = ['John Yaki Lennon', 'Nick Jagger', 'Micheal Jordan Peter', 'Paul Gibson', 'Thomas', 'Nguyen Thi Mong Mo']\n",
    "print(my_max(numbers))\n",
    "print(my_max(names, key=len))\n",
    "\n",
    "def count_words(name):\n",
    "    words = name.split(' ')\n",
    "    #print(words)\n",
    "    return len(words)\n",
    "\n",
    "print(my_max(names, key=count_words))\n",
    "\n",
    "# def double(n):\n",
    "#   return n*2\n",
    "# -> lambda n: n*2\n"
   ]
  },
  {
   "cell_type": "code",
   "execution_count": 17,
   "metadata": {},
   "outputs": [
    {
     "name": "stdout",
     "output_type": "stream",
     "text": [
      "[34, 80, 96, 97, 85, 79, 23, 38, 41, 99, 82, 26, 18, 87, 57, 74, 92, 61, 66, 42]\n",
      "[34, 80, 96, 38, 82, 26, 18, 74, 92, 66, 42]\n",
      "[97, 85, 79, 23, 41, 99, 87, 57, 61]\n"
     ]
    },
    {
     "ename": "TypeError",
     "evalue": "'int' object is not callable",
     "output_type": "error",
     "traceback": [
      "\u001b[1;31m---------------------------------------------------------------------------\u001b[0m",
      "\u001b[1;31mTypeError\u001b[0m                                 Traceback (most recent call last)",
      "\u001b[1;32m~\\AppData\\Local\\Temp/ipykernel_18268/2198231904.py\u001b[0m in \u001b[0;36m<module>\u001b[1;34m\u001b[0m\n\u001b[0;32m     17\u001b[0m \u001b[1;33m\u001b[0m\u001b[0m\n\u001b[0;32m     18\u001b[0m \u001b[1;31m# Calculate m as average of numbers\u001b[0m\u001b[1;33m\u001b[0m\u001b[1;33m\u001b[0m\u001b[0m\n\u001b[1;32m---> 19\u001b[1;33m \u001b[0mm\u001b[0m \u001b[1;33m=\u001b[0m \u001b[0msum\u001b[0m\u001b[1;33m(\u001b[0m\u001b[0mnumbers\u001b[0m\u001b[1;33m)\u001b[0m \u001b[1;33m/\u001b[0m \u001b[0mlen\u001b[0m\u001b[1;33m(\u001b[0m\u001b[0mnumbers\u001b[0m\u001b[1;33m)\u001b[0m\u001b[1;33m\u001b[0m\u001b[1;33m\u001b[0m\u001b[0m\n\u001b[0m\u001b[0;32m     20\u001b[0m \u001b[1;31m# Filter small numbers (< m), large numbers(>m)\u001b[0m\u001b[1;33m\u001b[0m\u001b[1;33m\u001b[0m\u001b[0m\n\u001b[0;32m     21\u001b[0m \u001b[0msmall_numbers\u001b[0m \u001b[1;33m=\u001b[0m \u001b[0mlist\u001b[0m\u001b[1;33m(\u001b[0m\u001b[0mfilter\u001b[0m\u001b[1;33m(\u001b[0m\u001b[1;32mlambda\u001b[0m \u001b[0mn\u001b[0m\u001b[1;33m:\u001b[0m \u001b[1;32mTrue\u001b[0m \u001b[1;32mif\u001b[0m \u001b[0mn\u001b[0m \u001b[1;33m<\u001b[0m \u001b[0mm\u001b[0m \u001b[1;32melse\u001b[0m \u001b[1;32mFalse\u001b[0m\u001b[1;33m,\u001b[0m \u001b[0mnumbers\u001b[0m\u001b[1;33m)\u001b[0m\u001b[1;33m)\u001b[0m\u001b[1;33m\u001b[0m\u001b[1;33m\u001b[0m\u001b[0m\n",
      "\u001b[1;31mTypeError\u001b[0m: 'int' object is not callable"
     ]
    }
   ],
   "source": [
    "# Filter \n",
    "def is_even(n):\n",
    "    if n % 2 == 0:\n",
    "        return True\n",
    "    else:\n",
    "        return False\n",
    "\n",
    "import random as rd \n",
    "numbers = rd.sample(range(100), 20)\n",
    "print(numbers)\n",
    "\n",
    "evens = list(filter(is_even, numbers))\n",
    "print(evens)\n",
    "\n",
    "odds = list(filter(lambda n: True if n%2==1 else False, numbers))\n",
    "print(odds)\n",
    "\n",
    "# Calculate m as average of numbers\n",
    "m = sum(numbers) / len(numbers)\n",
    "# Filter small numbers (< m), large numbers(>m)\n",
    "small_numbers = list(filter(lambda n: True if n < m else False, numbers))\n",
    "large_numbers = list(filter(lambda n: True if n > m else False, numbers))\n",
    "print(small_numbers, large_numbers, m, sep='\\n')\n",
    "\n",
    "names = ['Hoang', 'Anh', 'Oanh', 'Luong', 'Mai', 'Uyen', 'Thang']\n",
    "#Filter name which start with vowels ('a','e', 'i', 'o', 'u')\n",
    "vowels = list(filter(lambda name: True if name[0] in 'AEIOU' else False, names))\n",
    "print(vowels)\n",
    "#Filter names which start with consonal (others)\n",
    "\n"
   ]
  },
  {
   "cell_type": "code",
   "execution_count": null,
   "metadata": {},
   "outputs": [],
   "source": []
  }
 ],
 "metadata": {
  "interpreter": {
   "hash": "9bf2ca0f4a7adc3ce2f237ca763c1538d3ef289a4e7face3612a01cdae9f6807"
  },
  "kernelspec": {
   "display_name": "Python 3.10.1 64-bit",
   "language": "python",
   "name": "python3"
  },
  "language_info": {
   "codemirror_mode": {
    "name": "ipython",
    "version": 3
   },
   "file_extension": ".py",
   "mimetype": "text/x-python",
   "name": "python",
   "nbconvert_exporter": "python",
   "pygments_lexer": "ipython3",
   "version": "3.10.1"
  },
  "orig_nbformat": 4
 },
 "nbformat": 4,
 "nbformat_minor": 2
}
