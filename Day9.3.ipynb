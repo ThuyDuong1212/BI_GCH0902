{
 "cells": [
  {
   "cell_type": "code",
   "execution_count": 1,
   "metadata": {},
   "outputs": [],
   "source": [
    "# HOMEWORK"
   ]
  },
  {
   "cell_type": "code",
   "execution_count": null,
   "metadata": {},
   "outputs": [],
   "source": [
    "def clean_employees(employees, fix_name=do_nothing, fix_phone=do_nothing, fix_salary=do_nothing):\n",
    "    fix_name(employees)\n",
    "    fix_phone(employees)\n",
    "    fix_salary(employees)"
   ]
  },
  {
   "cell_type": "code",
   "execution_count": null,
   "metadata": {},
   "outputs": [],
   "source": [
    "def fix_empty_name(employees):\n",
    "    for n in employees:\n",
    "        if n[0] == '':\n",
    "            n[0] = 'John Doe'"
   ]
  },
  {
   "cell_type": "code",
   "execution_count": null,
   "metadata": {},
   "outputs": [],
   "source": [
    "def truncate_long_name(employees):\n",
    "    for n in employees:\n",
    "        if len(n[0]) > 20:\n",
    "            n[0] = n[0][:20] + \"...\""
   ]
  },
  {
   "cell_type": "code",
   "execution_count": null,
   "metadata": {},
   "outputs": [],
   "source": [
    "clean_employees(employees, truncate_long_name)\n",
    "print(employees)"
   ]
  },
  {
   "cell_type": "code",
   "execution_count": null,
   "metadata": {},
   "outputs": [],
   "source": [
    "clean_employees(employees, fix_empty_name, do_nothing, do_nothing)\n",
    "print(employees)"
   ]
  },
  {
   "cell_type": "code",
   "execution_count": null,
   "metadata": {},
   "outputs": [],
   "source": [
    "def fix_non_digits_to_zero(employees):\n",
    "    for e in employees:\n",
    "        for digit in e[1]:\n",
    "            if digit not in \"0123456789\":\n",
    "                e[1] = e[1].replace(digit, \"0\")"
   ]
  },
  {
   "cell_type": "code",
   "execution_count": null,
   "metadata": {},
   "outputs": [],
   "source": [
    "def fix_non_digits_to_previous(employees):\n",
    "    for e in employees:\n",
    "        for i in range(0, len(e[1])):\n",
    "            if e[1][0] not in \"0123456789\":\n",
    "                e[1] = \"0\" + e[1][1:]\n",
    "            elif e[1][i] not in \"0123456789\":\n",
    "                e[1] = e[1].replace(e[1][i], e[1][i-1])"
   ]
  },
  {
   "cell_type": "code",
   "execution_count": null,
   "metadata": {},
   "outputs": [],
   "source": [
    "def fix_salary(employees):\n",
    "    for e in employees:\n",
    "        if e[2] > 2000:\n",
    "            e[2] = 2000\n",
    "        elif e[2] < 200:\n",
    "            e[2] = 200\n",
    "        else:\n",
    "            continue"
   ]
  },
  {
   "cell_type": "code",
   "execution_count": null,
   "metadata": {},
   "outputs": [],
   "source": [
    "def isPrime(n):\n",
    "    if n == 1  or n == 0:\n",
    "        return False\n",
    "    for i in range(2, n**0.5):\n",
    "        if n % i == 0:\n",
    "            return False\n",
    "        i += 1\n",
    "    return True"
   ]
  },
  {
   "cell_type": "code",
   "execution_count": null,
   "metadata": {},
   "outputs": [],
   "source": [
    "numbers = [n if n > 0 else -n for n in numbers]\n",
    "print(numbers)"
   ]
  },
  {
   "cell_type": "code",
   "execution_count": null,
   "metadata": {},
   "outputs": [],
   "source": [
    "prime = sorted(set(filter(lambda n:True if isPrime(n) else False, numbers)))\n",
    "print(prime)"
   ]
  },
  {
   "cell_type": "code",
   "execution_count": null,
   "metadata": {},
   "outputs": [],
   "source": [
    "for i in prime:\n",
    "    divisible = list(filter(lambda n: True if n%i==0 and n!=i else False, numbers))\n",
    "    print(i, divisible)"
   ]
  },
  {
   "cell_type": "code",
   "execution_count": null,
   "metadata": {},
   "outputs": [],
   "source": []
  },
  {
   "cell_type": "code",
   "execution_count": null,
   "metadata": {},
   "outputs": [],
   "source": []
  }
 ],
 "metadata": {
  "interpreter": {
   "hash": "9bf2ca0f4a7adc3ce2f237ca763c1538d3ef289a4e7face3612a01cdae9f6807"
  },
  "kernelspec": {
   "display_name": "Python 3.10.1 64-bit",
   "language": "python",
   "name": "python3"
  },
  "language_info": {
   "codemirror_mode": {
    "name": "ipython",
    "version": 3
   },
   "file_extension": ".py",
   "mimetype": "text/x-python",
   "name": "python",
   "nbconvert_exporter": "python",
   "pygments_lexer": "ipython3",
   "version": "3.10.1"
  },
  "orig_nbformat": 4
 },
 "nbformat": 4,
 "nbformat_minor": 2
}
