{
 "cells": [
  {
   "cell_type": "code",
   "execution_count": 4,
   "metadata": {},
   "outputs": [
    {
     "name": "stdout",
     "output_type": "stream",
     "text": [
      "[[1 2 3]\n",
      " [4 5 6]\n",
      " [7 8 9]]\n"
     ]
    }
   ],
   "source": [
    "import numpy as np\n",
    "arr2d = np.array([[1, 2, 3], [4, 5, 6], [7, 8, 9]])\n",
    "print(arr2d)\n"
   ]
  },
  {
   "cell_type": "code",
   "execution_count": 10,
   "metadata": {},
   "outputs": [
    {
     "ename": "NameError",
     "evalue": "name 'arr2d' is not defined",
     "output_type": "error",
     "traceback": [
      "\u001b[1;31m---------------------------------------------------------------------------\u001b[0m",
      "\u001b[1;31mNameError\u001b[0m                                 Traceback (most recent call last)",
      "\u001b[1;32m~\\AppData\\Local\\Temp/ipykernel_9180/2972950886.py\u001b[0m in \u001b[0;36m<module>\u001b[1;34m\u001b[0m\n\u001b[0;32m      1\u001b[0m \u001b[1;31m#Slicing\u001b[0m\u001b[1;33m\u001b[0m\u001b[1;33m\u001b[0m\u001b[0m\n\u001b[1;32m----> 2\u001b[1;33m \u001b[0mprint\u001b[0m\u001b[1;33m(\u001b[0m\u001b[0marr2d\u001b[0m\u001b[1;33m[\u001b[0m\u001b[1;36m3\u001b[0m\u001b[1;33m]\u001b[0m\u001b[1;33m,\u001b[0m \u001b[0marr2d\u001b[0m\u001b[1;33m[\u001b[0m\u001b[1;33m-\u001b[0m\u001b[1;36m2\u001b[0m\u001b[1;33m]\u001b[0m\u001b[1;33m)\u001b[0m\u001b[1;33m\u001b[0m\u001b[1;33m\u001b[0m\u001b[0m\n\u001b[0m\u001b[0;32m      3\u001b[0m \u001b[0mprint\u001b[0m\u001b[1;33m(\u001b[0m\u001b[0marr2d\u001b[0m\u001b[1;33m[\u001b[0m\u001b[1;33m:\u001b[0m\u001b[1;33m,\u001b[0m \u001b[1;36m2\u001b[0m\u001b[1;33m]\u001b[0m\u001b[1;33m)\u001b[0m\u001b[1;33m\u001b[0m\u001b[1;33m\u001b[0m\u001b[0m\n\u001b[0;32m      4\u001b[0m \u001b[0mprint\u001b[0m\u001b[1;33m(\u001b[0m\u001b[0marr2d\u001b[0m\u001b[1;33m[\u001b[0m\u001b[1;36m1\u001b[0m\u001b[1;33m:\u001b[0m\u001b[1;36m4\u001b[0m\u001b[1;33m,\u001b[0m \u001b[1;36m3\u001b[0m\u001b[1;33m]\u001b[0m\u001b[1;33m)\u001b[0m\u001b[1;33m\u001b[0m\u001b[1;33m\u001b[0m\u001b[0m\n\u001b[0;32m      5\u001b[0m \u001b[0mprint\u001b[0m\u001b[1;33m(\u001b[0m\u001b[0marr2d\u001b[0m\u001b[1;33m[\u001b[0m\u001b[1;36m1\u001b[0m\u001b[1;33m:\u001b[0m\u001b[1;36m5\u001b[0m\u001b[1;33m,\u001b[0m \u001b[1;36m2\u001b[0m\u001b[1;33m:\u001b[0m\u001b[1;36m4\u001b[0m\u001b[1;33m]\u001b[0m\u001b[1;33m)\u001b[0m \u001b[1;31m#print(arr2d[1:, 2:4])\u001b[0m\u001b[1;33m\u001b[0m\u001b[1;33m\u001b[0m\u001b[0m\n",
      "\u001b[1;31mNameError\u001b[0m: name 'arr2d' is not defined"
     ]
    }
   ],
   "source": [
    "#Slicing\n",
    "print(arr2d[3], arr2d[-2])\n",
    "print(arr2d[:, 2])\n",
    "print(arr2d[1:4, 3])\n",
    "print(arr2d[1:5, 2:4]) #print(arr2d[1:, 2:4])\n"
   ]
  },
  {
   "cell_type": "code",
   "execution_count": null,
   "metadata": {},
   "outputs": [],
   "source": []
  },
  {
   "cell_type": "code",
   "execution_count": 8,
   "metadata": {},
   "outputs": [
    {
     "name": "stdout",
     "output_type": "stream",
     "text": [
      "[[1 1 1 1 1 1 1 1]\n",
      " [1 0 0 0 0 0 0 1]\n",
      " [1 0 0 0 0 0 0 1]\n",
      " [1 0 0 0 0 0 0 1]\n",
      " [1 0 0 0 0 0 0 1]\n",
      " [1 0 0 0 0 0 0 1]\n",
      " [1 0 0 0 0 0 0 1]\n",
      " [1 1 1 1 1 1 1 1]]\n"
     ]
    }
   ],
   "source": [
    "m = np.ones((8, 8), dtype=int)\n",
    "m[1:7, 1:7] = 0\n",
    "print(m)"
   ]
  },
  {
   "cell_type": "code",
   "execution_count": 10,
   "metadata": {},
   "outputs": [
    {
     "name": "stdout",
     "output_type": "stream",
     "text": [
      "[[1 1 1 1 1 1 1 1]\n",
      " [1 0 0 0 0 0 0 1]\n",
      " [1 0 0 0 0 0 0 1]\n",
      " [1 0 0 0 0 0 0 1]\n",
      " [1 0 0 0 0 0 0 1]\n",
      " [1 0 0 0 0 0 0 1]\n",
      " [1 0 0 0 0 0 0 1]\n",
      " [1 1 1 1 1 1 1 1]]\n"
     ]
    }
   ],
   "source": [
    "m = np.zeros((8, 8), dtype=int)\n",
    "#print(m)\n",
    "#C1\n",
    "m[0] = 1\n",
    "m[-1] = 1\n",
    "m[:, 0] = 1\n",
    "m[:, -1] = 1\n",
    "print(m)"
   ]
  },
  {
   "cell_type": "code",
   "execution_count": 11,
   "metadata": {},
   "outputs": [
    {
     "name": "stdout",
     "output_type": "stream",
     "text": [
      "[[11 92 21 49 60 85 27 45]\n",
      " [96 27 28 67 37 76 10 86]\n",
      " [13 23 20 22 14 17 48 98]\n",
      " [24 28 87 95 53 67 14 13]\n",
      " [85 29 23 87 98 41 68 19]\n",
      " [19 46 56 31 96 58 12 82]\n",
      " [22 57 67 23 29 66 80 63]\n",
      " [97 61 71 23 40 85 55 57]]\n"
     ]
    }
   ],
   "source": [
    "m = np.random.randint(10, 100, (8, 8))\n",
    "print(m)\n"
   ]
  },
  {
   "cell_type": "code",
   "execution_count": 1,
   "metadata": {},
   "outputs": [],
   "source": [
    "grades = {'Nam':7.0, 'Bac':6.5, 'Son':5.0, 'Ha':9.5, 'Le':10.0, 'Trung':4.0}"
   ]
  },
  {
   "cell_type": "code",
   "execution_count": 3,
   "metadata": {},
   "outputs": [
    {
     "name": "stdout",
     "output_type": "stream",
     "text": [
      "dict_values([7.0, 6.5, 5.0, 9.5, 10.0, 4.0])\n",
      "Max gpa = 10.0\n"
     ]
    }
   ],
   "source": [
    "gpas = grades.values()\n",
    "print(gpas)\n",
    "max_gpa = max(gpas)\n",
    "print('Max gpa =', max_gpa)"
   ]
  },
  {
   "cell_type": "code",
   "execution_count": 4,
   "metadata": {},
   "outputs": [
    {
     "name": "stdout",
     "output_type": "stream",
     "text": [
      "[('Nam', 7.0), ('Bac', 6.5), ('Son', 5.0), ('Ha', 9.5), ('Le', 10.0), ('Trung', 4.0)]\n"
     ]
    }
   ],
   "source": [
    "print(list(grades.items()))"
   ]
  },
  {
   "cell_type": "code",
   "execution_count": 5,
   "metadata": {},
   "outputs": [
    {
     "name": "stdout",
     "output_type": "stream",
     "text": [
      "Best student: Le\n"
     ]
    }
   ],
   "source": [
    "for s, gpa in grades.items():\n",
    "    if gpa == max_gpa:\n",
    "        print('Best student:', s)"
   ]
  },
  {
   "cell_type": "code",
   "execution_count": 6,
   "metadata": {},
   "outputs": [
    {
     "name": "stdout",
     "output_type": "stream",
     "text": [
      "GPA of Bac = 6.5\n",
      "GPA of Bac = 6.5\n"
     ]
    }
   ],
   "source": [
    "name = 'Bac'\n",
    "print('GPA of {0} = {1}'.format(name, grades.get(name)))\n",
    "print('GPA of {0} = {1}'.format(name, grades[name]))"
   ]
  },
  {
   "cell_type": "code",
   "execution_count": 7,
   "metadata": {},
   "outputs": [
    {
     "name": "stdout",
     "output_type": "stream",
     "text": [
      "Best student: Le\n"
     ]
    }
   ],
   "source": [
    "print('Best student:', max(grades, key=grades.get))"
   ]
  },
  {
   "cell_type": "code",
   "execution_count": 8,
   "metadata": {},
   "outputs": [
    {
     "name": "stdout",
     "output_type": "stream",
     "text": [
      "Mean GPA = 7.0\n"
     ]
    }
   ],
   "source": [
    "import numpy as np\n",
    "mean_gpa = np.mean(list(gpas))\n",
    "print('Mean GPA =', mean_gpa )"
   ]
  },
  {
   "cell_type": "code",
   "execution_count": 9,
   "metadata": {},
   "outputs": [
    {
     "name": "stdout",
     "output_type": "stream",
     "text": [
      "Mean GPA = 7.0\n"
     ]
    }
   ],
   "source": [
    "sum_gpa = 0\n",
    "for s, gpa in grades.items():\n",
    "    sum_gpa += gpa\n",
    "print('Mean GPA =', sum_gpa / len(grades))"
   ]
  },
  {
   "cell_type": "code",
   "execution_count": 15,
   "metadata": {},
   "outputs": [
    {
     "name": "stdout",
     "output_type": "stream",
     "text": [
      "{'Nam': 7.0, 'Bac': 6.5, 'Son': 5.0, 'Ha': 9.5, 'Le': 10.0, 'Trung': 4.0}\n",
      "gradesNam = 7.0\n"
     ]
    }
   ],
   "source": [
    "print(grades)\n",
    "name = input('Enter name:')\n",
    "print('grades{0} = {1}'.format(name, grades[name]))\n"
   ]
  },
  {
   "cell_type": "code",
   "execution_count": null,
   "metadata": {},
   "outputs": [],
   "source": []
  },
  {
   "cell_type": "code",
   "execution_count": 16,
   "metadata": {},
   "outputs": [
    {
     "name": "stdout",
     "output_type": "stream",
     "text": [
      "1 3 5 7 9 11 13 15 17 19 "
     ]
    }
   ],
   "source": [
    "# for (int i = 1; i < 20; i = i+2)\n",
    "for i in range(1, 20, 2):\n",
    "    print(i, end=' ')"
   ]
  },
  {
   "cell_type": "code",
   "execution_count": 18,
   "metadata": {},
   "outputs": [],
   "source": [
    "# Print multiplication table\n",
    "n = int(input('Enter n: '))"
   ]
  },
  {
   "cell_type": "code",
   "execution_count": 19,
   "metadata": {},
   "outputs": [
    {
     "name": "stdout",
     "output_type": "stream",
     "text": [
      " 1 x  4 =  4\n",
      " 2 x  4 =  8\n",
      " 3 x  4 = 12\n",
      " 4 x  4 = 16\n",
      " 5 x  4 = 20\n",
      " 6 x  4 = 24\n",
      " 7 x  4 = 28\n",
      " 8 x  4 = 32\n",
      " 9 x  4 = 36\n",
      "10 x  4 = 40\n"
     ]
    }
   ],
   "source": [
    "for i in range(1, 11):\n",
    "    print('{0:2d} x {1:2d} = {2:2d}'.format(i, n, i*n))"
   ]
  },
  {
   "cell_type": "code",
   "execution_count": 20,
   "metadata": {},
   "outputs": [
    {
     "name": "stdout",
     "output_type": "stream",
     "text": [
      "['Nam', 'Bac', 'Son', 'Ha', 'Le', 'Trung']\n"
     ]
    }
   ],
   "source": [
    "names = list(grades.keys())\n",
    "print(names)"
   ]
  },
  {
   "cell_type": "code",
   "execution_count": 21,
   "metadata": {},
   "outputs": [
    {
     "name": "stdout",
     "output_type": "stream",
     "text": [
      "Nam\n",
      "Bac\n",
      "Son\n",
      "Ha\n",
      "Le\n",
      "Trung\n"
     ]
    }
   ],
   "source": [
    "for n in names:\n",
    "    print(n)"
   ]
  },
  {
   "cell_type": "code",
   "execution_count": 22,
   "metadata": {},
   "outputs": [
    {
     "name": "stdout",
     "output_type": "stream",
     "text": [
      "1.Nam\n",
      "2.Bac\n",
      "3.Son\n",
      "4.Ha\n",
      "5.Le\n",
      "6.Trung\n"
     ]
    }
   ],
   "source": [
    "i = 1\n",
    "for n in names:\n",
    "    print('{0}.{1}'.format(i, n))\n",
    "    i += 1"
   ]
  },
  {
   "cell_type": "code",
   "execution_count": 23,
   "metadata": {},
   "outputs": [
    {
     "name": "stdout",
     "output_type": "stream",
     "text": [
      "0.Nam\n",
      "1.Bac\n",
      "2.Son\n",
      "3.Ha\n",
      "4.Le\n",
      "5.Trung\n"
     ]
    }
   ],
   "source": [
    "for i, n in enumerate(names):\n",
    "    print('{0}.{1}'.format(i, n))\n",
    "    i += 1"
   ]
  },
  {
   "cell_type": "code",
   "execution_count": 24,
   "metadata": {},
   "outputs": [
    {
     "name": "stdout",
     "output_type": "stream",
     "text": [
      "1.Nam\n",
      "2.Bac\n",
      "3.Son\n",
      "4.Ha\n",
      "5.Le\n",
      "6.Trung\n"
     ]
    }
   ],
   "source": [
    "for i, n in enumerate(names):\n",
    "    print('{0}.{1}'.format(i+1, n))"
   ]
  },
  {
   "cell_type": "code",
   "execution_count": 25,
   "metadata": {},
   "outputs": [
    {
     "name": "stdout",
     "output_type": "stream",
     "text": [
      "[(0, 'Nam'), (1, 'Bac'), (2, 'Son'), (3, 'Ha'), (4, 'Le'), (5, 'Trung')]\n"
     ]
    }
   ],
   "source": [
    "print(list(enumerate(names)))"
   ]
  },
  {
   "cell_type": "code",
   "execution_count": null,
   "metadata": {},
   "outputs": [],
   "source": []
  },
  {
   "cell_type": "code",
   "execution_count": null,
   "metadata": {},
   "outputs": [],
   "source": []
  }
 ],
 "metadata": {
  "interpreter": {
   "hash": "9bf2ca0f4a7adc3ce2f237ca763c1538d3ef289a4e7face3612a01cdae9f6807"
  },
  "kernelspec": {
   "display_name": "Python 3.10.1 64-bit",
   "language": "python",
   "name": "python3"
  },
  "language_info": {
   "codemirror_mode": {
    "name": "ipython",
    "version": 3
   },
   "file_extension": ".py",
   "mimetype": "text/x-python",
   "name": "python",
   "nbconvert_exporter": "python",
   "pygments_lexer": "ipython3",
   "version": "3.10.1"
  },
  "orig_nbformat": 4
 },
 "nbformat": 4,
 "nbformat_minor": 2
}
