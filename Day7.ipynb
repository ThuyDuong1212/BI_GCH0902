{
 "cells": [
  {
   "cell_type": "code",
   "execution_count": 8,
   "metadata": {},
   "outputs": [
    {
     "name": "stdout",
     "output_type": "stream",
     "text": [
      "[38, 20, 22, 74, 63, 70, 58, 3, 25, 2, 42, 17, 84, 83, 23, 68, 92, 64, 8, 12]\n",
      "[74, 63, 70, 58, 84, 83, 68, 92, 64]\n",
      "43.4 [74, 63, 70, 58, 84, 83, 68, 92, 64]\n",
      "[38, 20, 22, 74, 70, 58, 2, 42, 84, 68, 92, 64, 8, 12, 38, 20, 22, 74, 70, 58, 2, 42, 84, 68, 92, 64, 8, 12]\n",
      "[38, 22, 63, 58, 25, 42, 84, 23, 92, 8] [20]\n",
      "[38, 22, 63, 58, 25, 42, 84, 23, 92, 8] [38, 22, 63, 58, 25, 42, 84, 23, 92, 8]\n",
      "Distinction students:\n",
      "Ha\n",
      "1\n",
      "['Ha'] 1\n",
      "['Nam', 'Son', 'Binh'] 3\n",
      "['Hoa'] 1\n",
      "[] 0\n",
      "Pass rate: 100.00\n"
     ]
    }
   ],
   "source": [
    "import random\n",
    "numbers = random.sample(range(100), 20)\n",
    "print(numbers)\n",
    "\n",
    "gt50 = [n for n in numbers if n > 50]\n",
    "print(gt50)\n",
    "\n",
    "m = sum(numbers) / len(numbers)\n",
    "gtmean = [n for n in numbers if n > m]\n",
    "print(m, gtmean)\n",
    "\n",
    "evens = [n for n in numbers if n % 2 == 0]\n",
    "odds = [n for n in numbers if n % 2 == 0]\n",
    "\n",
    "new_numbers = evens + odds\n",
    "print(new_numbers)\n",
    "\n",
    "#\n",
    "a = numbers[::2]\n",
    "b = numbers[1:2]\n",
    "print(a, b)\n",
    "a = [numbers[i] for i in range(0, len(numbers), 2)]     # chay 1 chuoi trong range \n",
    "b = [numbers[i] for i in range(0, len(numbers), 2)]\n",
    "print(a, b)\n",
    "\n",
    "grades = {'Nam':7.0, 'Hoa':6.0, 'Son':7.5, 'Binh':8.0, 'Ha':9.0}\n",
    "print('Distinction students:')\n",
    "nDistinctions = 0\n",
    "for s, gpa in grades.items():\n",
    "    if gpa > 8.0:\n",
    "        print(s)\n",
    "        nDistinctions += 1\n",
    "print(nDistinctions)\n",
    "\n",
    "distinctions = [s for s, gpa in grades.items() if gpa > 8.0]\n",
    "print(distinctions, len(distinctions))\n",
    "\n",
    "merits = [s for s, gpa in grades.items() if 6.5 < gpa <= 8.0]\n",
    "print(merits, len(merits))\n",
    "\n",
    "passes = [s for s, gpa in grades.items() if 4.0 <= gpa <= 6.5]\n",
    "print(passes, len(passes))\n",
    "\n",
    "fails = [s for s, gpa in grades.items() if gpa < 4.0]\n",
    "print(fails, len(fails))\n",
    "\n",
    "pass_rate = 100 * (len(grades) - len(fails)) / len(grades)\n",
    "print('Pass rate: {0:.2f}'.format(pass_rate))\n"
   ]
  },
  {
   "cell_type": "code",
   "execution_count": null,
   "metadata": {},
   "outputs": [],
   "source": []
  },
  {
   "cell_type": "code",
   "execution_count": null,
   "metadata": {},
   "outputs": [],
   "source": []
  }
 ],
 "metadata": {
  "interpreter": {
   "hash": "9bf2ca0f4a7adc3ce2f237ca763c1538d3ef289a4e7face3612a01cdae9f6807"
  },
  "kernelspec": {
   "display_name": "Python 3.10.1 64-bit",
   "language": "python",
   "name": "python3"
  },
  "language_info": {
   "codemirror_mode": {
    "name": "ipython",
    "version": 3
   },
   "file_extension": ".py",
   "mimetype": "text/x-python",
   "name": "python",
   "nbconvert_exporter": "python",
   "pygments_lexer": "ipython3",
   "version": "3.10.1"
  },
  "orig_nbformat": 4
 },
 "nbformat": 4,
 "nbformat_minor": 2
}
