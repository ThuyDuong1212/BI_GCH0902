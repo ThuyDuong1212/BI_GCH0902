{
 "cells": [
  {
   "cell_type": "code",
   "execution_count": 24,
   "metadata": {},
   "outputs": [
    {
     "name": "stdout",
     "output_type": "stream",
     "text": [
      "9\n",
      "HelloPython\n"
     ]
    }
   ],
   "source": [
    "def add(a,b):           # tinh generic\n",
    "    c = a + b\n",
    "    print(c)\n",
    "\n",
    "a = 4\n",
    "b = 5\n",
    "add(a,b)\n",
    "\n",
    "s1 = 'Hello'\n",
    "s2 = 'Python'\n",
    "add(s1,s2)\n",
    "\n",
    "# cong duoc list: int add(int a, intb)\n",
    "# cong array(dk la 2 array bang nhau): string add(string a, string b)\n",
    "\n",
    "#add(a, s1)\n",
    "\n"
   ]
  },
  {
   "cell_type": "code",
   "execution_count": 25,
   "metadata": {},
   "outputs": [
    {
     "name": "stdout",
     "output_type": "stream",
     "text": [
      "integer parameter: \n",
      " -0.6752620891999122\n",
      "list parameter: \n",
      " [-0.84887249 -1.41044612 -0.67526209  0.68075479]\n",
      "2d array parameter: \n",
      " [[-0.84887249 -1.41044612]\n",
      " [-0.67526209  0.68075479]]\n"
     ]
    }
   ],
   "source": [
    "import numpy as np\n",
    "def myfunc(x):\n",
    "    y = np.sin(x) + np.cos(x)\n",
    "    return y \n",
    "\n",
    "# but when use 'if else'\n",
    "# def myfunc(x):\n",
    "    if x != 0:\n",
    "        y = np.sin(x) + np.cos(x)\n",
    "    else: \n",
    "        return 0\n",
    "# phep so sanh if else chi cho phep su dung so\n",
    "\n",
    "x = 5\n",
    "print('integer parameter: \\n', myfunc(x))\n",
    "\n",
    "x = [3, 4, 5, 6]\n",
    "print('list parameter: \\n', myfunc(x))\n",
    "\n",
    "x = np.reshape(x, (2,2))\n",
    "print('2d array parameter: \\n', myfunc(x))\n",
    "\n",
    "\n"
   ]
  },
  {
   "cell_type": "code",
   "execution_count": 26,
   "metadata": {},
   "outputs": [
    {
     "ename": "ValueError",
     "evalue": "could not convert string to float: 'Entet student gpa: '",
     "output_type": "error",
     "traceback": [
      "\u001b[1;31m---------------------------------------------------------------------------\u001b[0m",
      "\u001b[1;31mValueError\u001b[0m                                Traceback (most recent call last)",
      "\u001b[1;32m~\\AppData\\Local\\Temp/ipykernel_11592/1827247822.py\u001b[0m in \u001b[0;36m<module>\u001b[1;34m\u001b[0m\n\u001b[0;32m     17\u001b[0m \u001b[1;33m\u001b[0m\u001b[0m\n\u001b[0;32m     18\u001b[0m \u001b[1;32mfor\u001b[0m \u001b[0mi\u001b[0m \u001b[1;32min\u001b[0m \u001b[0mrange\u001b[0m\u001b[1;33m(\u001b[0m\u001b[1;36m5\u001b[0m\u001b[1;33m)\u001b[0m\u001b[1;33m:\u001b[0m\u001b[1;33m\u001b[0m\u001b[1;33m\u001b[0m\u001b[0m\n\u001b[1;32m---> 19\u001b[1;33m     \u001b[0madd_student\u001b[0m\u001b[1;33m(\u001b[0m\u001b[0mgrades\u001b[0m\u001b[1;33m)\u001b[0m\u001b[1;33m\u001b[0m\u001b[1;33m\u001b[0m\u001b[0m\n\u001b[0m\u001b[0;32m     20\u001b[0m \u001b[1;33m\u001b[0m\u001b[0m\n\u001b[0;32m     21\u001b[0m \u001b[0ms\u001b[0m \u001b[1;33m=\u001b[0m \u001b[0minput\u001b[0m\u001b[1;33m(\u001b[0m\u001b[1;34m'Enter name to search:'\u001b[0m\u001b[1;33m)\u001b[0m\u001b[1;33m\u001b[0m\u001b[1;33m\u001b[0m\u001b[0m\n",
      "\u001b[1;32m~\\AppData\\Local\\Temp/ipykernel_11592/1827247822.py\u001b[0m in \u001b[0;36madd_student\u001b[1;34m(grades)\u001b[0m\n\u001b[0;32m      4\u001b[0m     \u001b[1;31m# ask user to enter name, gpa\u001b[0m\u001b[1;33m\u001b[0m\u001b[1;33m\u001b[0m\u001b[0m\n\u001b[0;32m      5\u001b[0m     \u001b[0mname\u001b[0m \u001b[1;33m=\u001b[0m \u001b[0minput\u001b[0m\u001b[1;33m(\u001b[0m\u001b[1;34m'Enter student name: '\u001b[0m\u001b[1;33m)\u001b[0m\u001b[1;33m\u001b[0m\u001b[1;33m\u001b[0m\u001b[0m\n\u001b[1;32m----> 6\u001b[1;33m     \u001b[0mgpa\u001b[0m \u001b[1;33m=\u001b[0m \u001b[0mfloat\u001b[0m\u001b[1;33m(\u001b[0m\u001b[1;34m'Entet student gpa: '\u001b[0m\u001b[1;33m)\u001b[0m\u001b[1;33m\u001b[0m\u001b[1;33m\u001b[0m\u001b[0m\n\u001b[0m\u001b[0;32m      7\u001b[0m     \u001b[1;31m# add to grades\u001b[0m\u001b[1;33m\u001b[0m\u001b[1;33m\u001b[0m\u001b[0m\n\u001b[0;32m      8\u001b[0m     \u001b[0mgrades\u001b[0m\u001b[1;33m[\u001b[0m\u001b[0mname\u001b[0m\u001b[1;33m]\u001b[0m \u001b[1;33m=\u001b[0m \u001b[0mgpa\u001b[0m\u001b[1;33m\u001b[0m\u001b[1;33m\u001b[0m\u001b[0m\n",
      "\u001b[1;31mValueError\u001b[0m: could not convert string to float: 'Entet student gpa: '"
     ]
    }
   ],
   "source": [
    "grades = {}\n",
    "\n",
    "def add_student(grades):\n",
    "    # ask user to enter name, gpa\n",
    "    name = input('Enter student name: ')\n",
    "    gpa = float('Entet student gpa: ')\n",
    "    # add to grades\n",
    "    grades[name] = gpa\n",
    "    pass\n",
    "\n",
    "def search_student(grades):\n",
    "    # print all student who has s in name\n",
    "    for name, gpa in grades.items():\n",
    "        if s in name:\n",
    "            print(name, gpa)\n",
    "    pass\n",
    "\n",
    "for i in range(5):\n",
    "    add_student(grades)\n",
    "\n",
    "s = input('Enter name to search:')\n",
    "search_student(grades, s)\n",
    "\n",
    "# int, float: by value\n",
    "# list, string, distionary: by reference"
   ]
  },
  {
   "cell_type": "code",
   "execution_count": 27,
   "metadata": {},
   "outputs": [
    {
     "name": "stdout",
     "output_type": "stream",
     "text": [
      "In add function: [4, 5]\n",
      "In main script: [4, 5]\n"
     ]
    }
   ],
   "source": [
    "#def add(a,b):\n",
    "#    a = a + b\n",
    "#    print('In add function:', a)\n",
    "\n",
    "#a = 4\n",
    "#b = 5\n",
    "#add(a,b)\n",
    "#print('In main script:', a)\n",
    "\n",
    "#a = [4]\n",
    "#b = [5]\n",
    "#add(a,b)\n",
    "#print('In main script:', a)\n",
    "\n",
    "def add(a,b):\n",
    "    a.append(b)\n",
    "    print('In add function:', a)\n",
    "\n",
    "a = [4]\n",
    "b = 5\n",
    "add(a,b)\n",
    "print('In main script:', a)\n",
    "\n"
   ]
  },
  {
   "cell_type": "code",
   "execution_count": 38,
   "metadata": {},
   "outputs": [
    {
     "name": "stdout",
     "output_type": "stream",
     "text": [
      "(-6.5590169943749475, -5.4409830056250525)\n"
     ]
    }
   ],
   "source": [
    "#print('Hello', 'World', sep='====')\n",
    "\n",
    "#def my_func(a, b=10, s='Hello'):\n",
    "#    print(a, b, s)\n",
    "\n",
    "#my_func(20) # -> 20, 10, 'Hello'\n",
    "#my_func(20, 'Hello') # -> 20, 'Hello', 'Hello'\n",
    "#my_func('Hello', s='World', b='Python') # ->\n",
    "\n",
    "\n",
    "#def print_list(*items):\n",
    "#    print(type(items))\n",
    "#    for i in range(len(items)):\n",
    "#        items[i] = 'a'\n",
    "#       print(items[i])\n",
    "\n",
    "#print_list(1)\n",
    "#print_list('Hello', 'World')\n",
    "\n",
    "def quadratic(a, b, c):\n",
    "    # Giai phuong trinh bac 2\n",
    "    # tra ve none neu pt vo nghiem\n",
    "    # tra ve 1 nghiem neu pt co 1 nghiem\n",
    "    # tra ve 2 nghiem neu pt co 2 nghiem\n",
    "    delta = b**2 - 4*a*c\n",
    "    if delta < 0:\n",
    "        return None\n",
    "    elif delta == 0:\n",
    "        return -b/(2*a)\n",
    "    else:\n",
    "        return (-b-delta**0.5/(2*a)), (-b+delta**0.5/(2*a))\n",
    "\n",
    "a = int(input('Enter a: '))\n",
    "b = int(input('Enter b: '))\n",
    "c = int(input('Enter c: '))\n",
    "print(quadratic(a, b, c))"
   ]
  }
 ],
 "metadata": {
  "interpreter": {
   "hash": "9bf2ca0f4a7adc3ce2f237ca763c1538d3ef289a4e7face3612a01cdae9f6807"
  },
  "kernelspec": {
   "display_name": "Python 3.10.1 64-bit",
   "language": "python",
   "name": "python3"
  },
  "language_info": {
   "codemirror_mode": {
    "name": "ipython",
    "version": 3
   },
   "file_extension": ".py",
   "mimetype": "text/x-python",
   "name": "python",
   "nbconvert_exporter": "python",
   "pygments_lexer": "ipython3",
   "version": "3.10.1"
  },
  "orig_nbformat": 4
 },
 "nbformat": 4,
 "nbformat_minor": 2
}
