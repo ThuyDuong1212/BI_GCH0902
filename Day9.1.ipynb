{
 "cells": [
  {
   "cell_type": "code",
   "execution_count": 1,
   "metadata": {},
   "outputs": [
    {
     "name": "stdout",
     "output_type": "stream",
     "text": [
      "Numbers: [650, 895, 384, -145, 829, -405, -737, 317, 76, 173, 358, 213, -279, 38, -170, 476, -102, -543, 97, 104]\n",
      "4610\n",
      "4610\n",
      "4610\n"
     ]
    }
   ],
   "source": [
    "# Given a list of random numbers\n",
    "# Calculate sum of positive numbers\n",
    "\n",
    "import random as rd\n",
    "numbers = rd.sample(range(-999, 1000), 20)\n",
    "print('Numbers:', numbers)\n",
    "\n",
    "# Traditional method \n",
    "def sum1(numbers):\n",
    "    s = 0\n",
    "    for n in numbers:\n",
    "        if n > 0:\n",
    "            s += n\n",
    "    return s\n",
    "\n",
    "# List comprehension \n",
    "def sum2(numbers):\n",
    "    positives = [n for n in numbers if n > 0]\n",
    "    return sum(positives)\n",
    "\n",
    "# Using filter \n",
    "def sum3(numbers):\n",
    "    positives = filter(lambda n: True if n > 0 else False, numbers)\n",
    "    return sum(positives)\n",
    "\n",
    "print(sum1(numbers))\n",
    "print(sum2(numbers))\n",
    "print(sum3(numbers))\n",
    "\n",
    "# Cac tieu chi code trong python\n",
    "# 1. Spead -> Fast\n",
    "# 2. Space -> Less\n",
    "# 3. Length code -> Short\n"
   ]
  },
  {
   "cell_type": "code",
   "execution_count": null,
   "metadata": {},
   "outputs": [],
   "source": []
  }
 ],
 "metadata": {
  "interpreter": {
   "hash": "9bf2ca0f4a7adc3ce2f237ca763c1538d3ef289a4e7face3612a01cdae9f6807"
  },
  "kernelspec": {
   "display_name": "Python 3.10.1 64-bit",
   "language": "python",
   "name": "python3"
  },
  "language_info": {
   "codemirror_mode": {
    "name": "ipython",
    "version": 3
   },
   "file_extension": ".py",
   "mimetype": "text/x-python",
   "name": "python",
   "nbconvert_exporter": "python",
   "pygments_lexer": "ipython3",
   "version": "3.10.1"
  },
  "orig_nbformat": 4
 },
 "nbformat": 4,
 "nbformat_minor": 2
}
