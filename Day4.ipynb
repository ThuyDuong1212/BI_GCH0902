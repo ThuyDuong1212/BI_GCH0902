{
 "cells": [
  {
   "cell_type": "code",
   "execution_count": 1,
   "metadata": {},
   "outputs": [
    {
     "name": "stdout",
     "output_type": "stream",
     "text": [
      "2\n",
      "['Trung' 'Linh' 'An' 'Hoang' 'An']\n"
     ]
    }
   ],
   "source": [
    "# Using boolean indexing to clean data\n",
    "import numpy as np\n",
    "names = np.array(['Trung', 'Linh', '', 'Hoang', ''])\n",
    "# Filter empty names\n",
    "empty_names = names[names=='']\n",
    "print(len(empty_names))\n",
    "# Cleaning empty names\n",
    "names[names==''] = 'An'\n",
    "print(names)"
   ]
  },
  {
   "cell_type": "code",
   "execution_count": 6,
   "metadata": {},
   "outputs": [
    {
     "name": "stdout",
     "output_type": "stream",
     "text": [
      "[ 0  2  4  6  8 10 12 14 16 18]\n",
      "[ 0  2  4  6  8 10 12 14 16 18]\n"
     ]
    }
   ],
   "source": [
    "import numpy as np\n",
    "# Create array of 10 integers from 0 to 20\n",
    "#1\n",
    "a = np.linspace(0, 20, 10, endpoint=False, dtype=int)\n",
    "print(a)\n",
    "\n",
    "#2\n",
    "b = np.arange(0, 20, 2)\n",
    "print(b)"
   ]
  },
  {
   "cell_type": "code",
   "execution_count": 14,
   "metadata": {},
   "outputs": [
    {
     "name": "stdout",
     "output_type": "stream",
     "text": [
      "[ 1.          8.5112782  16.02255639 23.53383459 31.04511278 38.55639098\n",
      " 46.06766917 53.57894737 61.09022556 68.60150376]\n",
      "[ 0  2  4  6  8 10 12 14 16 18]\n",
      "7.511278195488722\n"
     ]
    }
   ],
   "source": [
    "#Create array of 133 numbers from 1 to 1000\n",
    "import numpy as np\n",
    "n = np.arange(1, 1000, (1000-1)/133)\n",
    "print(n[:10])\n",
    "\n",
    "m, step = np.linspace(1, 1000, 133, endpoint=False, retstep= True)\n",
    "print(b[:10])\n",
    "print(step)"
   ]
  },
  {
   "cell_type": "code",
   "execution_count": 37,
   "metadata": {},
   "outputs": [
    {
     "name": "stdout",
     "output_type": "stream",
     "text": [
      "[17 59 55 47 42 62 11 70 37 33 57  5 30  2 37 35 90  8 20 36]\n",
      "[42 62 70 30  2 90  8 20 36]n[ 2  8 20 30 36 42 62 70 90]\n"
     ]
    }
   ],
   "source": [
    "#4\n",
    "numbers = np.random.randint(0, 100, 20)\n",
    "print(numbers)\n",
    "evens = numbers[numbers%2==0]\n",
    "sorted_evens = np.sort(evens)\n",
    "print(evens, sorted_evens, sep= 'n')\n",
    "#c1: sorted (convert ve array)\n",
    "#c2: np.sort\n",
    "#c3: call method sort\n"
   ]
  },
  {
   "cell_type": "code",
   "execution_count": 38,
   "metadata": {},
   "outputs": [
    {
     "name": "stdout",
     "output_type": "stream",
     "text": [
      "[ 5 11 17 33 35 37 37 47 55 57 59]\n"
     ]
    }
   ],
   "source": [
    "sorted_odds = np.sort(numbers[numbers%2==1])\n",
    "print(sorted_odds)"
   ]
  },
  {
   "cell_type": "code",
   "execution_count": 39,
   "metadata": {},
   "outputs": [
    {
     "name": "stdout",
     "output_type": "stream",
     "text": [
      "[ 2  8 20 30 36 42 62 70 90  5 11 17 33 35 37 37 47 55 57 59]\n"
     ]
    }
   ],
   "source": [
    "numbers = np.concatenate((sorted_evens, sorted_odds))\n",
    "print(numbers)"
   ]
  },
  {
   "cell_type": "code",
   "execution_count": 42,
   "metadata": {},
   "outputs": [],
   "source": [
    "y = np.array([0., 1.3, 5. , 10.9, 18.9, 28.7, 40.]) \n",
    "t = np.array([0., 0.49, 1. , 1.5 , 2.08, 2.55, 3.2]) \n"
   ]
  },
  {
   "cell_type": "code",
   "execution_count": 44,
   "metadata": {},
   "outputs": [
    {
     "name": "stdout",
     "output_type": "stream",
     "text": [
      "[ 2.65306122  7.25490196 11.8        13.79310345 20.85106383 17.38461538]\n"
     ]
    }
   ],
   "source": [
    "distances = y[1:] - y[:-1]\n",
    "times = t[1:] - t[:-1]\n",
    "v = distances/times\n",
    "print(v)"
   ]
  },
  {
   "cell_type": "code",
   "execution_count": 45,
   "metadata": {},
   "outputs": [
    {
     "name": "stdout",
     "output_type": "stream",
     "text": [
      "1\n",
      "['John' 'Doe']\n"
     ]
    }
   ],
   "source": [
    "#a\n",
    "names = np.array(['John', ''])\n",
    "empty_names = names[names=='']\n",
    "print(len(empty_names))\n",
    "names[names==''] = 'Doe'\n",
    "print(names)"
   ]
  },
  {
   "cell_type": "code",
   "execution_count": 52,
   "metadata": {},
   "outputs": [
    {
     "name": "stdout",
     "output_type": "stream",
     "text": [
      "[  0   4  45  38 100]\n"
     ]
    }
   ],
   "source": [
    "#b\n",
    "ages = np.array([-1, 4, 45, 38, 100])\n",
    "ages[ages<0] = 0\n",
    "ages[ages>150] = 150\n",
    "print(ages)\n",
    "\n",
    "\n"
   ]
  },
  {
   "cell_type": "code",
   "execution_count": 54,
   "metadata": {},
   "outputs": [
    {
     "name": "stdout",
     "output_type": "stream",
     "text": [
      "Min ages: 0\n"
     ]
    }
   ],
   "source": [
    "#print('Min ages:', min(ages))\n",
    "print(\"Min ages:\", min(ages))"
   ]
  },
  {
   "cell_type": "code",
   "execution_count": null,
   "metadata": {},
   "outputs": [],
   "source": []
  },
  {
   "cell_type": "code",
   "execution_count": null,
   "metadata": {},
   "outputs": [],
   "source": []
  }
 ],
 "metadata": {
  "interpreter": {
   "hash": "9bf2ca0f4a7adc3ce2f237ca763c1538d3ef289a4e7face3612a01cdae9f6807"
  },
  "kernelspec": {
   "display_name": "Python 3.10.1 64-bit",
   "language": "python",
   "name": "python3"
  },
  "language_info": {
   "codemirror_mode": {
    "name": "ipython",
    "version": 3
   },
   "file_extension": ".py",
   "mimetype": "text/x-python",
   "name": "python",
   "nbconvert_exporter": "python",
   "pygments_lexer": "ipython3",
   "version": "3.10.1"
  },
  "orig_nbformat": 4
 },
 "nbformat": 4,
 "nbformat_minor": 2
}
